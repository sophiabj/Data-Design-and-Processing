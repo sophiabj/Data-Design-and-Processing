{
 "cells": [
  {
   "cell_type": "code",
   "execution_count": 1,
   "id": "a87bfd18",
   "metadata": {},
   "outputs": [],
   "source": [
    "from pyspark.sql import SparkSession\n",
    "from pyspark.sql.functions import col, sum\n",
    "from pyspark.sql.functions import hour\n",
    "from pyspark.sql import functions as F\n"
   ]
  },
  {
   "cell_type": "code",
   "execution_count": 2,
   "id": "a6d8a9cc",
   "metadata": {},
   "outputs": [
    {
     "name": "stderr",
     "output_type": "stream",
     "text": [
      "24/10/18 13:23:39 WARN Utils: Your hostname, Autochek-MacBook-Pro.local resolves to a loopback address: 127.0.0.1; using 192.168.96.65 instead (on interface en0)\n",
      "24/10/18 13:23:39 WARN Utils: Set SPARK_LOCAL_IP if you need to bind to another address\n",
      "Setting default log level to \"WARN\".\n",
      "To adjust logging level use sc.setLogLevel(newLevel). For SparkR, use setLogLevel(newLevel).\n",
      "24/10/18 13:23:40 WARN NativeCodeLoader: Unable to load native-hadoop library for your platform... using builtin-java classes where applicable\n",
      "24/10/18 13:23:41 WARN Utils: Service 'SparkUI' could not bind on port 4040. Attempting port 4041.\n",
      "24/10/18 13:23:56 WARN GarbageCollectionMetrics: To enable non-built-in garbage collector(s) List(G1 Concurrent GC), users should configure it(them) to spark.eventLog.gcMetrics.youngGenerationGarbageCollectors or spark.eventLog.gcMetrics.oldGenerationGarbageCollectors\n",
      "                                                                                \r"
     ]
    },
    {
     "name": "stdout",
     "output_type": "stream",
     "text": [
      "+--------------------+--------------------+--------------------+------------+----------+\n",
      "|          unique_key|             taxi_id|trip_start_timestamp|trip_seconds|trip_miles|\n",
      "+--------------------+--------------------+--------------------+------------+----------+\n",
      "|aee47615b43b47807...|d34bb905b4c5c5e6e...| 2020-07-07 19:15:00|          56|       0.0|\n",
      "|62c522d608b792d3f...|841f99fdfdf5cedb4...| 2020-07-07 05:15:00|         562|      5.06|\n",
      "|4e6c3a495af8990e9...|9361b5b6a56dbfbc2...| 2020-07-07 10:45:00|         415|      1.39|\n",
      "|e04451f3e6fb44d75...|3ff6ae822a41ebadf...| 2020-07-07 10:45:00|        2368|      9.82|\n",
      "|53f1285b865df1cf7...|78d45b51ff03d70f0...| 2020-07-07 13:30:00|        2940|       0.0|\n",
      "+--------------------+--------------------+--------------------+------------+----------+\n",
      "only showing top 5 rows\n",
      "\n"
     ]
    }
   ],
   "source": [
    "# Initialize Spark session\n",
    "spark = SparkSession.builder \\\n",
    "    .appName(\"Taxi Trips Processing\") \\\n",
    "    .getOrCreate()\n",
    "\n",
    "# Load the large dataset \n",
    "\n",
    "taxi_trips = spark.read.csv(\"taxi_trips.csv\", header=True, inferSchema=True)\n",
    "\n",
    "# Show a sample of the data\n",
    "taxi_trips.show(5)"
   ]
  },
  {
   "cell_type": "code",
   "execution_count": 4,
   "id": "a3460f0d",
   "metadata": {},
   "outputs": [
    {
     "name": "stderr",
     "output_type": "stream",
     "text": [
      "[Stage 7:=====================================================>   (47 + 3) / 50]\r"
     ]
    },
    {
     "name": "stdout",
     "output_type": "stream",
     "text": [
      "Total number of trips: 21160773\n"
     ]
    },
    {
     "name": "stderr",
     "output_type": "stream",
     "text": [
      "\r",
      "                                                                                \r"
     ]
    }
   ],
   "source": [
    "#Length of dataframe/Total number of trips\n",
    "\n",
    "total_trips = taxi_trips.count()\n",
    "print(\"Total number of trips:\", total_trips)"
   ]
  },
  {
   "cell_type": "code",
   "execution_count": 8,
   "id": "c8a67187",
   "metadata": {},
   "outputs": [
    {
     "name": "stderr",
     "output_type": "stream",
     "text": [
      "[Stage 10:======================================================> (49 + 1) / 50]\r"
     ]
    },
    {
     "name": "stdout",
     "output_type": "stream",
     "text": [
      "Total miles driven: 99230999.98000765\n"
     ]
    },
    {
     "name": "stderr",
     "output_type": "stream",
     "text": [
      "\r",
      "                                                                                \r"
     ]
    }
   ],
   "source": [
    "#Total miles driven\n",
    "\n",
    "total_miles = taxi_trips.agg({\"trip_miles\": \"sum\"}).collect()[0][0]\n",
    "print(\"Total miles driven:\", total_miles)"
   ]
  },
  {
   "cell_type": "code",
   "execution_count": 10,
   "id": "54af5b2b",
   "metadata": {},
   "outputs": [
    {
     "name": "stderr",
     "output_type": "stream",
     "text": [
      "                                                                                \r"
     ]
    },
    {
     "data": {
      "text/plain": [
       "99230999.98000765"
      ]
     },
     "execution_count": 10,
     "metadata": {},
     "output_type": "execute_result"
    }
   ],
   "source": [
    "total_miles_ = taxi_trips.select(sum(\"trip_miles\")).collect()[0][0]\n",
    "total_miles_ "
   ]
  },
  {
   "cell_type": "code",
   "execution_count": 12,
   "id": "1e314638",
   "metadata": {},
   "outputs": [
    {
     "name": "stdout",
     "output_type": "stream",
     "text": [
      "Total miles per taxi\n"
     ]
    },
    {
     "name": "stderr",
     "output_type": "stream",
     "text": [
      "[Stage 16:======================================================> (49 + 1) / 50]\r"
     ]
    },
    {
     "name": "stdout",
     "output_type": "stream",
     "text": [
      "+--------------------+------------------+\n",
      "|             taxi_id|       total_miles|\n",
      "+--------------------+------------------+\n",
      "|b83ba3da1a4bc2a68...| 43232.10000000001|\n",
      "|7da8dfbf5db7bed94...| 54406.87999999999|\n",
      "|b5bf5d282fa4191c6...|               0.0|\n",
      "|195a4d0fc8a42120e...|339.20000000000033|\n",
      "|d2c2d4128d6597a3b...| 48855.40999999998|\n",
      "|f6d1b6c930d62f6d8...|          27515.33|\n",
      "|a8aee50b5b0787156...| 34502.00000000001|\n",
      "|bb7eb49d01457ba3d...| 7871.700000000001|\n",
      "|79a7b43709940cecf...|10930.400000000003|\n",
      "|bdba06f86d8822d4d...| 8643.960000000001|\n",
      "+--------------------+------------------+\n",
      "only showing top 10 rows\n",
      "\n"
     ]
    },
    {
     "name": "stderr",
     "output_type": "stream",
     "text": [
      "\r",
      "                                                                                \r"
     ]
    }
   ],
   "source": [
    "\n",
    "total_miles_per_taxi = taxi_trips.groupBy(\"taxi_id\").agg(\n",
    "    F.sum(\"trip_miles\").alias(\"total_miles\")\n",
    ")\n",
    "print(\"Total miles per taxi\")\n",
    "\n",
    "total_miles_per_taxi.show(10)"
   ]
  },
  {
   "cell_type": "code",
   "execution_count": 15,
   "id": "37b29b2c",
   "metadata": {},
   "outputs": [
    {
     "name": "stdout",
     "output_type": "stream",
     "text": [
      "Miles duration per hour\n"
     ]
    },
    {
     "name": "stderr",
     "output_type": "stream",
     "text": [
      "[Stage 22:======================================================> (49 + 1) / 50]\r"
     ]
    },
    {
     "name": "stdout",
     "output_type": "stream",
     "text": [
      "+---------+------------------+------------------+\n",
      "|trip_hour|       total_miles| avg_trip_duration|\n",
      "+---------+------------------+------------------+\n",
      "|       12| 5401278.970000022|  920.660089795414|\n",
      "|       22|4719400.8900000015|1001.1222857578178|\n",
      "|        1| 2305076.119999995| 933.0665880953133|\n",
      "|       13| 6009550.360000024|  965.113814081403|\n",
      "|       16| 6582993.340000044|1146.6154760037414|\n",
      "|        6|1404563.2699999989|1012.8341476452665|\n",
      "|        3| 878957.1300000008| 758.9463622278126|\n",
      "|       20|  6160129.02000003|1027.8626126196364|\n",
      "|        5| 835480.2600000002| 814.6572536850272|\n",
      "|       19| 6134234.240000029|1080.5957855575357|\n",
      "|       15| 6492258.060000039|1072.3100385616226|\n",
      "|        9|3873350.8299999926| 924.2295458349023|\n",
      "|       17| 6403516.420000037|1140.8044367157993|\n",
      "|        4| 667062.7200000011| 716.7707961482294|\n",
      "|        8|2977375.5999999996| 956.7090765195665|\n",
      "|       23| 3700058.209999991| 945.2392627050642|\n",
      "|        7| 2099158.789999998|1016.4470115076576|\n",
      "|       10| 4622326.690000006| 924.0017349431071|\n",
      "|       21| 5686366.390000017|1026.1592737443045|\n",
      "|       11|  5035871.70000001| 925.1769510531487|\n",
      "|       14| 6308139.780000032|1013.5535634797104|\n",
      "|        2|1489439.1699999983| 865.5634830427481|\n",
      "|        0|2959253.5299999923| 929.4673826359722|\n",
      "|       18| 6485158.490000038|1144.9567348211879|\n",
      "+---------+------------------+------------------+\n",
      "\n"
     ]
    },
    {
     "name": "stderr",
     "output_type": "stream",
     "text": [
      "\r",
      "                                                                                \r"
     ]
    }
   ],
   "source": [
    "\n",
    "miles_duration_by_hour = taxi_trips.withColumn(\"trip_hour\", hour(\"trip_start_timestamp\")).groupBy(\"trip_hour\").agg(\n",
    "    F.sum(\"trip_miles\").alias(\"total_miles\"),\n",
    "    F.avg(\"trip_seconds\").alias(\"avg_trip_duration\")\n",
    ")\n",
    "\n",
    "print(\"Miles duration per hour\")\n",
    "miles_duration_by_hour.show(30)"
   ]
  },
  {
   "cell_type": "code",
   "execution_count": null,
   "id": "341a92d9",
   "metadata": {},
   "outputs": [],
   "source": []
  }
 ],
 "metadata": {
  "kernelspec": {
   "display_name": "Python 3 (ipykernel)",
   "language": "python",
   "name": "python3"
  },
  "language_info": {
   "codemirror_mode": {
    "name": "ipython",
    "version": 3
   },
   "file_extension": ".py",
   "mimetype": "text/x-python",
   "name": "python",
   "nbconvert_exporter": "python",
   "pygments_lexer": "ipython3",
   "version": "3.11.4"
  }
 },
 "nbformat": 4,
 "nbformat_minor": 5
}
