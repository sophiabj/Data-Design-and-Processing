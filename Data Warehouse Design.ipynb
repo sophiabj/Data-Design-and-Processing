{
 "cells": [
  {
   "cell_type": "code",
   "execution_count": 1,
   "id": "c4610b23",
   "metadata": {},
   "outputs": [
    {
     "data": {
      "text/plain": [
       "(     Client              Project                Name    Task        Date  \\\n",
       " 0  Client 1  Website Development  Isabella Rodriguez  Design  2023-07-03   \n",
       " 1  Client 1  Website Development  Isabella Rodriguez  Design  2023-07-04   \n",
       " 2  Client 1  Website Development  Isabella Rodriguez  Design  2023-07-05   \n",
       " 3  Client 1  Website Development  Isabella Rodriguez  Design  2023-07-06   \n",
       " 4  Client 1  Website Development  Isabella Rodriguez  Design  2023-07-07   \n",
       " \n",
       "    Hours                                        Note Billable  \n",
       " 0    6.5                     Refined design elements      Yes  \n",
       " 1    6.5             Drafted initial design concepts      Yes  \n",
       " 2    6.0             Drafted initial design concepts      Yes  \n",
       " 3    7.0  Made revisions to design based on feedback      Yes  \n",
       " 4    7.0  Made revisions to design based on feedback      Yes  ,\n",
       "      Client              Project                Role                Name  \\\n",
       " 0  Client 1  Website Development    Product Designer  Isabella Rodriguez   \n",
       " 1  Client 1  Website Development      Design Manager          John Smith   \n",
       " 2  Client 1  Website Development  Front End Engineer             Liu Wei   \n",
       " 3  Client 1  Website Development         QA Engineer         Emily Patel   \n",
       " 4  Client 1  Website Development     Project Manager            Ali Khan   \n",
       " \n",
       "           Task  Start Date    End Date  Estimated Hours  \n",
       " 0       Design  2023-07-03  2023-07-24              112  \n",
       " 1       Design  2023-07-03  2023-07-24               24  \n",
       " 2  Development  2023-07-31  2023-08-28              189  \n",
       " 3      Testing  2023-08-21  2023-09-04               77  \n",
       " 4   Management  2023-07-03  2023-09-04               92  )"
      ]
     },
     "execution_count": 1,
     "metadata": {},
     "output_type": "execute_result"
    }
   ],
   "source": [
    "import pandas as pd\n",
    "\n",
    "# Load the CSV files to inspect their contents\n",
    "clickup_path = 'ClickUp - clickup.csv'\n",
    "float_path = 'Float - allocations.csv'\n",
    "\n",
    "# Reading the CSV files\n",
    "clickup_df = pd.read_csv(clickup_path)\n",
    "float_df = pd.read_csv(float_path)\n",
    "\n",
    "# Displaying the first few rows of each dataset\n",
    "clickup_df.head(), float_df.head()"
   ]
  },
  {
   "cell_type": "markdown",
   "id": "e624de0f",
   "metadata": {},
   "source": [
    "The next step is to transform the data into fact and dimension tables, ensuring data cleanliness and preparing for ETL implementation. Let's proceed with cleaning and transforming the data"
   ]
  },
  {
   "cell_type": "code",
   "execution_count": null,
   "id": "91bfa12c",
   "metadata": {},
   "outputs": [],
   "source": [
    "# Cleaning and transforming the data"
   ]
  },
  {
   "cell_type": "code",
   "execution_count": 2,
   "id": "9807286f",
   "metadata": {},
   "outputs": [],
   "source": [
    "# Removing any leading/trailing spaces from column names and entries\n",
    "clickup_df.columns = clickup_df.columns.str.strip()\n",
    "float_df.columns = float_df.columns.str.strip()"
   ]
  },
  {
   "cell_type": "code",
   "execution_count": 3,
   "id": "ee2fb5d9",
   "metadata": {},
   "outputs": [],
   "source": [
    "clickup_df = clickup_df.applymap(lambda x: x.strip() if isinstance(x, str) else x)\n",
    "float_df = float_df.applymap(lambda x: x.strip() if isinstance(x, str) else x)"
   ]
  },
  {
   "cell_type": "code",
   "execution_count": 5,
   "id": "bae9e751",
   "metadata": {},
   "outputs": [
    {
     "data": {
      "text/plain": [
       "(Client      0\n",
       " Project     0\n",
       " Name        0\n",
       " Task        0\n",
       " Date        0\n",
       " Hours       0\n",
       " Note        0\n",
       " Billable    0\n",
       " dtype: int64,\n",
       " Client             0\n",
       " Project            0\n",
       " Role               0\n",
       " Name               0\n",
       " Task               0\n",
       " Start Date         0\n",
       " End Date           0\n",
       " Estimated Hours    0\n",
       " dtype: int64)"
      ]
     },
     "execution_count": 5,
     "metadata": {},
     "output_type": "execute_result"
    }
   ],
   "source": [
    "# Checking for any missing values in both datasets\n",
    "clickup_missing = clickup_df.isnull().sum()\n",
    "float_missing = float_df.isnull().sum()\n",
    "\n",
    "clickup_missing, float_missing"
   ]
  },
  {
   "cell_type": "code",
   "execution_count": 6,
   "id": "5da3f1b2",
   "metadata": {},
   "outputs": [
    {
     "data": {
      "text/plain": [
       "(0, 0)"
      ]
     },
     "execution_count": 6,
     "metadata": {},
     "output_type": "execute_result"
    }
   ],
   "source": [
    "# Checking for duplicates in both datasets\n",
    "clickup_duplicates = clickup_df.duplicated().sum()\n",
    "float_duplicates = float_df.duplicated().sum()\n",
    "\n",
    "clickup_duplicates, float_duplicates"
   ]
  },
  {
   "cell_type": "code",
   "execution_count": null,
   "id": "a23b4359",
   "metadata": {},
   "outputs": [],
   "source": []
  },
  {
   "cell_type": "markdown",
   "id": "1f910a27",
   "metadata": {},
   "source": [
    "The data from both datasets is clean with no missing values or duplicates. \n",
    "\n",
    "The next step is to:\n",
    "\n",
    "Create Fact and Dimension Tables from the cleaned data.\n",
    "Implement the ETL Process to load the data into these tables."
   ]
  },
  {
   "cell_type": "markdown",
   "id": "1a85293f",
   "metadata": {},
   "source": [
    "Dimension Tables:\n",
    "\n",
    "Dim_TeamMember: From the Name column (common across both datasets).\n",
    "Dim_Project: From the Project column.\n",
    "Dim_Role: From the Role column (Float dataset only).\n",
    "Dim_Date: Extracted from the Date, Start Date, and End Date columns for time-based analysis.\n"
   ]
  },
  {
   "cell_type": "code",
   "execution_count": null,
   "id": "b1a25355",
   "metadata": {},
   "outputs": [],
   "source": []
  },
  {
   "cell_type": "code",
   "execution_count": 7,
   "id": "57bd8817",
   "metadata": {},
   "outputs": [
    {
     "data": {
      "text/html": [
       "<div>\n",
       "<style scoped>\n",
       "    .dataframe tbody tr th:only-of-type {\n",
       "        vertical-align: middle;\n",
       "    }\n",
       "\n",
       "    .dataframe tbody tr th {\n",
       "        vertical-align: top;\n",
       "    }\n",
       "\n",
       "    .dataframe thead th {\n",
       "        text-align: right;\n",
       "    }\n",
       "</style>\n",
       "<table border=\"1\" class=\"dataframe\">\n",
       "  <thead>\n",
       "    <tr style=\"text-align: right;\">\n",
       "      <th></th>\n",
       "      <th>TeamMemberID</th>\n",
       "      <th>TeamMemberName</th>\n",
       "    </tr>\n",
       "  </thead>\n",
       "  <tbody>\n",
       "    <tr>\n",
       "      <th>0</th>\n",
       "      <td>1</td>\n",
       "      <td>Isabella Rodriguez</td>\n",
       "    </tr>\n",
       "    <tr>\n",
       "      <th>1</th>\n",
       "      <td>2</td>\n",
       "      <td>John Smith</td>\n",
       "    </tr>\n",
       "    <tr>\n",
       "      <th>2</th>\n",
       "      <td>3</td>\n",
       "      <td>Liu Wei</td>\n",
       "    </tr>\n",
       "    <tr>\n",
       "      <th>3</th>\n",
       "      <td>4</td>\n",
       "      <td>Emily Patel</td>\n",
       "    </tr>\n",
       "    <tr>\n",
       "      <th>4</th>\n",
       "      <td>5</td>\n",
       "      <td>Ali Khan</td>\n",
       "    </tr>\n",
       "  </tbody>\n",
       "</table>\n",
       "</div>"
      ],
      "text/plain": [
       "   TeamMemberID      TeamMemberName\n",
       "0             1  Isabella Rodriguez\n",
       "1             2          John Smith\n",
       "2             3             Liu Wei\n",
       "3             4         Emily Patel\n",
       "4             5            Ali Khan"
      ]
     },
     "execution_count": 7,
     "metadata": {},
     "output_type": "execute_result"
    }
   ],
   "source": [
    "# Creating Dimension Tables\n",
    "\n",
    "# Dim_TeamMember: unique team member names from both datasets\n",
    "dim_team_member = pd.DataFrame({\n",
    "    'TeamMemberID': range(1, clickup_df['Name'].nunique() + 1),\n",
    "    'TeamMemberName': clickup_df['Name'].unique()\n",
    "})\n",
    "\n",
    "dim_team_member.head()\n"
   ]
  },
  {
   "cell_type": "code",
   "execution_count": 8,
   "id": "c6c7f25d",
   "metadata": {},
   "outputs": [
    {
     "data": {
      "text/html": [
       "<div>\n",
       "<style scoped>\n",
       "    .dataframe tbody tr th:only-of-type {\n",
       "        vertical-align: middle;\n",
       "    }\n",
       "\n",
       "    .dataframe tbody tr th {\n",
       "        vertical-align: top;\n",
       "    }\n",
       "\n",
       "    .dataframe thead th {\n",
       "        text-align: right;\n",
       "    }\n",
       "</style>\n",
       "<table border=\"1\" class=\"dataframe\">\n",
       "  <thead>\n",
       "    <tr style=\"text-align: right;\">\n",
       "      <th></th>\n",
       "      <th>ProjectID</th>\n",
       "      <th>ProjectName</th>\n",
       "    </tr>\n",
       "  </thead>\n",
       "  <tbody>\n",
       "    <tr>\n",
       "      <th>0</th>\n",
       "      <td>1</td>\n",
       "      <td>Website Development</td>\n",
       "    </tr>\n",
       "    <tr>\n",
       "      <th>1</th>\n",
       "      <td>2</td>\n",
       "      <td>Brand Guideline</td>\n",
       "    </tr>\n",
       "    <tr>\n",
       "      <th>2</th>\n",
       "      <td>3</td>\n",
       "      <td>Book Localization to Ukraine</td>\n",
       "    </tr>\n",
       "  </tbody>\n",
       "</table>\n",
       "</div>"
      ],
      "text/plain": [
       "   ProjectID                   ProjectName\n",
       "0          1           Website Development\n",
       "1          2               Brand Guideline\n",
       "2          3  Book Localization to Ukraine"
      ]
     },
     "execution_count": 8,
     "metadata": {},
     "output_type": "execute_result"
    }
   ],
   "source": [
    "# Dim_Project: unique projects from both datasets\n",
    "dim_project = pd.DataFrame({\n",
    "    'ProjectID': range(1, clickup_df['Project'].nunique() + 1),\n",
    "    'ProjectName': clickup_df['Project'].unique()\n",
    "})\n",
    "dim_project.head()"
   ]
  },
  {
   "cell_type": "code",
   "execution_count": 9,
   "id": "c6131e57",
   "metadata": {},
   "outputs": [
    {
     "data": {
      "text/html": [
       "<div>\n",
       "<style scoped>\n",
       "    .dataframe tbody tr th:only-of-type {\n",
       "        vertical-align: middle;\n",
       "    }\n",
       "\n",
       "    .dataframe tbody tr th {\n",
       "        vertical-align: top;\n",
       "    }\n",
       "\n",
       "    .dataframe thead th {\n",
       "        text-align: right;\n",
       "    }\n",
       "</style>\n",
       "<table border=\"1\" class=\"dataframe\">\n",
       "  <thead>\n",
       "    <tr style=\"text-align: right;\">\n",
       "      <th></th>\n",
       "      <th>RoleID</th>\n",
       "      <th>RoleName</th>\n",
       "    </tr>\n",
       "  </thead>\n",
       "  <tbody>\n",
       "    <tr>\n",
       "      <th>0</th>\n",
       "      <td>1</td>\n",
       "      <td>Product Designer</td>\n",
       "    </tr>\n",
       "    <tr>\n",
       "      <th>1</th>\n",
       "      <td>2</td>\n",
       "      <td>Design Manager</td>\n",
       "    </tr>\n",
       "    <tr>\n",
       "      <th>2</th>\n",
       "      <td>3</td>\n",
       "      <td>Front End Engineer</td>\n",
       "    </tr>\n",
       "    <tr>\n",
       "      <th>3</th>\n",
       "      <td>4</td>\n",
       "      <td>QA Engineer</td>\n",
       "    </tr>\n",
       "    <tr>\n",
       "      <th>4</th>\n",
       "      <td>5</td>\n",
       "      <td>Project Manager</td>\n",
       "    </tr>\n",
       "  </tbody>\n",
       "</table>\n",
       "</div>"
      ],
      "text/plain": [
       "   RoleID            RoleName\n",
       "0       1    Product Designer\n",
       "1       2      Design Manager\n",
       "2       3  Front End Engineer\n",
       "3       4         QA Engineer\n",
       "4       5     Project Manager"
      ]
     },
     "execution_count": 9,
     "metadata": {},
     "output_type": "execute_result"
    }
   ],
   "source": [
    "# Dim_Role: unique roles from the Float dataset\n",
    "dim_role = pd.DataFrame({\n",
    "    'RoleID': range(1, float_df['Role'].nunique() + 1),\n",
    "    'RoleName': float_df['Role'].unique()\n",
    "})\n",
    "dim_role.head()"
   ]
  },
  {
   "cell_type": "code",
   "execution_count": 10,
   "id": "866a7d56",
   "metadata": {},
   "outputs": [
    {
     "data": {
      "text/html": [
       "<div>\n",
       "<style scoped>\n",
       "    .dataframe tbody tr th:only-of-type {\n",
       "        vertical-align: middle;\n",
       "    }\n",
       "\n",
       "    .dataframe tbody tr th {\n",
       "        vertical-align: top;\n",
       "    }\n",
       "\n",
       "    .dataframe thead th {\n",
       "        text-align: right;\n",
       "    }\n",
       "</style>\n",
       "<table border=\"1\" class=\"dataframe\">\n",
       "  <thead>\n",
       "    <tr style=\"text-align: right;\">\n",
       "      <th></th>\n",
       "      <th>DateID</th>\n",
       "      <th>Date</th>\n",
       "    </tr>\n",
       "  </thead>\n",
       "  <tbody>\n",
       "    <tr>\n",
       "      <th>0</th>\n",
       "      <td>1</td>\n",
       "      <td>2023-07-03</td>\n",
       "    </tr>\n",
       "    <tr>\n",
       "      <th>1</th>\n",
       "      <td>2</td>\n",
       "      <td>2023-07-04</td>\n",
       "    </tr>\n",
       "    <tr>\n",
       "      <th>2</th>\n",
       "      <td>3</td>\n",
       "      <td>2023-07-05</td>\n",
       "    </tr>\n",
       "    <tr>\n",
       "      <th>3</th>\n",
       "      <td>4</td>\n",
       "      <td>2023-07-06</td>\n",
       "    </tr>\n",
       "    <tr>\n",
       "      <th>4</th>\n",
       "      <td>5</td>\n",
       "      <td>2023-07-07</td>\n",
       "    </tr>\n",
       "  </tbody>\n",
       "</table>\n",
       "</div>"
      ],
      "text/plain": [
       "   DateID       Date\n",
       "0       1 2023-07-03\n",
       "1       2 2023-07-04\n",
       "2       3 2023-07-05\n",
       "3       4 2023-07-06\n",
       "4       5 2023-07-07"
      ]
     },
     "execution_count": 10,
     "metadata": {},
     "output_type": "execute_result"
    }
   ],
   "source": [
    "# Parsing dates for the Dim_Date table from the ClickUp and Float datasets\n",
    "dates = pd.concat([clickup_df['Date'], float_df['Start Date'], float_df['End Date']]).unique()\n",
    "dim_date = pd.DataFrame({\n",
    "    'DateID': range(1, len(dates) + 1),\n",
    "    'Date': pd.to_datetime(dates)\n",
    "})\n",
    "dim_date.head()"
   ]
  },
  {
   "cell_type": "markdown",
   "id": "51d7e674",
   "metadata": {},
   "source": [
    "\n",
    "Fact Tables:\n",
    "\n",
    "Fact_Allocations: Will store the Name, Project, Role, Task, Start Date, End Date, and Estimated Hours from the Float dataset.\n",
    "Fact_TimeTracking: Will store the Name, Project, Task, Date, Hours, and Billable from the ClickUp dataset."
   ]
  },
  {
   "cell_type": "code",
   "execution_count": 11,
   "id": "a5704264",
   "metadata": {},
   "outputs": [],
   "source": [
    "# Merging datasets with dimension tables to create fact tables\n",
    "\n",
    "# Fact_Allocations: linking the Float dataset to dimensions\n",
    "fact_allocations = float_df.merge(dim_team_member, left_on='Name', right_on='TeamMemberName') \\\n",
    "                           .merge(dim_project, left_on='Project', right_on='ProjectName') \\\n",
    "                           .merge(dim_role, left_on='Role', right_on='RoleName')\n",
    "\n"
   ]
  },
  {
   "cell_type": "code",
   "execution_count": 12,
   "id": "10898e7c",
   "metadata": {},
   "outputs": [
    {
     "data": {
      "text/html": [
       "<div>\n",
       "<style scoped>\n",
       "    .dataframe tbody tr th:only-of-type {\n",
       "        vertical-align: middle;\n",
       "    }\n",
       "\n",
       "    .dataframe tbody tr th {\n",
       "        vertical-align: top;\n",
       "    }\n",
       "\n",
       "    .dataframe thead th {\n",
       "        text-align: right;\n",
       "    }\n",
       "</style>\n",
       "<table border=\"1\" class=\"dataframe\">\n",
       "  <thead>\n",
       "    <tr style=\"text-align: right;\">\n",
       "      <th></th>\n",
       "      <th>Client</th>\n",
       "      <th>TeamMemberID</th>\n",
       "      <th>ProjectID</th>\n",
       "      <th>RoleID</th>\n",
       "      <th>Task</th>\n",
       "      <th>Start Date</th>\n",
       "      <th>End Date</th>\n",
       "      <th>Estimated Hours</th>\n",
       "    </tr>\n",
       "  </thead>\n",
       "  <tbody>\n",
       "    <tr>\n",
       "      <th>0</th>\n",
       "      <td>Client 1</td>\n",
       "      <td>1</td>\n",
       "      <td>1</td>\n",
       "      <td>1</td>\n",
       "      <td>Design</td>\n",
       "      <td>2023-07-03</td>\n",
       "      <td>2023-07-24</td>\n",
       "      <td>112</td>\n",
       "    </tr>\n",
       "    <tr>\n",
       "      <th>1</th>\n",
       "      <td>Client 1</td>\n",
       "      <td>2</td>\n",
       "      <td>1</td>\n",
       "      <td>2</td>\n",
       "      <td>Design</td>\n",
       "      <td>2023-07-03</td>\n",
       "      <td>2023-07-24</td>\n",
       "      <td>24</td>\n",
       "    </tr>\n",
       "    <tr>\n",
       "      <th>2</th>\n",
       "      <td>Client 1</td>\n",
       "      <td>2</td>\n",
       "      <td>2</td>\n",
       "      <td>2</td>\n",
       "      <td>Design</td>\n",
       "      <td>2023-07-03</td>\n",
       "      <td>2023-07-24</td>\n",
       "      <td>32</td>\n",
       "    </tr>\n",
       "    <tr>\n",
       "      <th>3</th>\n",
       "      <td>Client 2</td>\n",
       "      <td>2</td>\n",
       "      <td>3</td>\n",
       "      <td>2</td>\n",
       "      <td>Design</td>\n",
       "      <td>2023-07-24</td>\n",
       "      <td>2023-08-28</td>\n",
       "      <td>52</td>\n",
       "    </tr>\n",
       "    <tr>\n",
       "      <th>4</th>\n",
       "      <td>Client 1</td>\n",
       "      <td>3</td>\n",
       "      <td>1</td>\n",
       "      <td>3</td>\n",
       "      <td>Development</td>\n",
       "      <td>2023-07-31</td>\n",
       "      <td>2023-08-28</td>\n",
       "      <td>189</td>\n",
       "    </tr>\n",
       "  </tbody>\n",
       "</table>\n",
       "</div>"
      ],
      "text/plain": [
       "     Client  TeamMemberID  ProjectID  RoleID         Task  Start Date  \\\n",
       "0  Client 1             1          1       1       Design  2023-07-03   \n",
       "1  Client 1             2          1       2       Design  2023-07-03   \n",
       "2  Client 1             2          2       2       Design  2023-07-03   \n",
       "3  Client 2             2          3       2       Design  2023-07-24   \n",
       "4  Client 1             3          1       3  Development  2023-07-31   \n",
       "\n",
       "     End Date  Estimated Hours  \n",
       "0  2023-07-24              112  \n",
       "1  2023-07-24               24  \n",
       "2  2023-07-24               32  \n",
       "3  2023-08-28               52  \n",
       "4  2023-08-28              189  "
      ]
     },
     "execution_count": 12,
     "metadata": {},
     "output_type": "execute_result"
    }
   ],
   "source": [
    "fact_allocations = fact_allocations[['Client','TeamMemberID', 'ProjectID', 'RoleID', 'Task', \n",
    "                                     'Start Date', 'End Date', 'Estimated Hours']]\n",
    "fact_allocations.head()"
   ]
  },
  {
   "cell_type": "code",
   "execution_count": 13,
   "id": "fc4d6f54",
   "metadata": {},
   "outputs": [],
   "source": [
    "\n",
    "# Fact_TimeTracking: linking the ClickUp dataset to dimensions\n",
    "fact_time_tracking = clickup_df.merge(dim_team_member, left_on='Name', right_on='TeamMemberName') \\\n",
    "                               .merge(dim_project, left_on='Project', right_on='ProjectName') \\\n",
    "                               #.merge(dim_client, left_on='Client', right_on='Client')"
   ]
  },
  {
   "cell_type": "code",
   "execution_count": 14,
   "id": "2f39658c",
   "metadata": {},
   "outputs": [
    {
     "data": {
      "text/html": [
       "<div>\n",
       "<style scoped>\n",
       "    .dataframe tbody tr th:only-of-type {\n",
       "        vertical-align: middle;\n",
       "    }\n",
       "\n",
       "    .dataframe tbody tr th {\n",
       "        vertical-align: top;\n",
       "    }\n",
       "\n",
       "    .dataframe thead th {\n",
       "        text-align: right;\n",
       "    }\n",
       "</style>\n",
       "<table border=\"1\" class=\"dataframe\">\n",
       "  <thead>\n",
       "    <tr style=\"text-align: right;\">\n",
       "      <th></th>\n",
       "      <th>Client</th>\n",
       "      <th>TeamMemberID</th>\n",
       "      <th>ProjectID</th>\n",
       "      <th>Date</th>\n",
       "      <th>Task</th>\n",
       "      <th>Hours</th>\n",
       "      <th>Note</th>\n",
       "      <th>Billable</th>\n",
       "    </tr>\n",
       "  </thead>\n",
       "  <tbody>\n",
       "    <tr>\n",
       "      <th>0</th>\n",
       "      <td>Client 1</td>\n",
       "      <td>1</td>\n",
       "      <td>1</td>\n",
       "      <td>2023-07-03</td>\n",
       "      <td>Design</td>\n",
       "      <td>6.5</td>\n",
       "      <td>Refined design elements</td>\n",
       "      <td>Yes</td>\n",
       "    </tr>\n",
       "    <tr>\n",
       "      <th>1</th>\n",
       "      <td>Client 1</td>\n",
       "      <td>1</td>\n",
       "      <td>1</td>\n",
       "      <td>2023-07-04</td>\n",
       "      <td>Design</td>\n",
       "      <td>6.5</td>\n",
       "      <td>Drafted initial design concepts</td>\n",
       "      <td>Yes</td>\n",
       "    </tr>\n",
       "    <tr>\n",
       "      <th>2</th>\n",
       "      <td>Client 1</td>\n",
       "      <td>1</td>\n",
       "      <td>1</td>\n",
       "      <td>2023-07-05</td>\n",
       "      <td>Design</td>\n",
       "      <td>6.0</td>\n",
       "      <td>Drafted initial design concepts</td>\n",
       "      <td>Yes</td>\n",
       "    </tr>\n",
       "    <tr>\n",
       "      <th>3</th>\n",
       "      <td>Client 1</td>\n",
       "      <td>1</td>\n",
       "      <td>1</td>\n",
       "      <td>2023-07-06</td>\n",
       "      <td>Design</td>\n",
       "      <td>7.0</td>\n",
       "      <td>Made revisions to design based on feedback</td>\n",
       "      <td>Yes</td>\n",
       "    </tr>\n",
       "    <tr>\n",
       "      <th>4</th>\n",
       "      <td>Client 1</td>\n",
       "      <td>1</td>\n",
       "      <td>1</td>\n",
       "      <td>2023-07-07</td>\n",
       "      <td>Design</td>\n",
       "      <td>7.0</td>\n",
       "      <td>Made revisions to design based on feedback</td>\n",
       "      <td>Yes</td>\n",
       "    </tr>\n",
       "  </tbody>\n",
       "</table>\n",
       "</div>"
      ],
      "text/plain": [
       "     Client  TeamMemberID  ProjectID        Date    Task  Hours  \\\n",
       "0  Client 1             1          1  2023-07-03  Design    6.5   \n",
       "1  Client 1             1          1  2023-07-04  Design    6.5   \n",
       "2  Client 1             1          1  2023-07-05  Design    6.0   \n",
       "3  Client 1             1          1  2023-07-06  Design    7.0   \n",
       "4  Client 1             1          1  2023-07-07  Design    7.0   \n",
       "\n",
       "                                         Note Billable  \n",
       "0                     Refined design elements      Yes  \n",
       "1             Drafted initial design concepts      Yes  \n",
       "2             Drafted initial design concepts      Yes  \n",
       "3  Made revisions to design based on feedback      Yes  \n",
       "4  Made revisions to design based on feedback      Yes  "
      ]
     },
     "execution_count": 14,
     "metadata": {},
     "output_type": "execute_result"
    }
   ],
   "source": [
    "fact_time_tracking = fact_time_tracking[['Client','TeamMemberID', 'ProjectID', 'Date', 'Task', 'Hours', 'Note','Billable']]\n",
    "\n",
    "# Displaying the first few rows of both fact tables\n",
    "fact_time_tracking.head()\n"
   ]
  },
  {
   "cell_type": "code",
   "execution_count": null,
   "id": "122ec547",
   "metadata": {},
   "outputs": [],
   "source": []
  },
  {
   "cell_type": "markdown",
   "id": "bca6ee5a",
   "metadata": {},
   "source": [
    "Next Step is to Load the following dataframes into BigQuery:\n",
    "\n",
    "dim_project\n",
    "dim_role\n",
    "dim_team_member\n",
    "fact_allocations\n",
    "fact_time_tracking\n",
    "\n",
    "Note: A new dataset will be created on BigQuery named 'clickup_float_allocations'"
   ]
  },
  {
   "cell_type": "code",
   "execution_count": 15,
   "id": "0fabafe1",
   "metadata": {},
   "outputs": [],
   "source": [
    "from google.oauth2 import service_account\n",
    "from pandas_gbq import to_gbq\n",
    "\n",
    "\n",
    "service_account_path = \"bq_creds.json\"\n",
    "\n",
    "credentials = service_account.Credentials.from_service_account_file(\n",
    "    service_account_path,\n",
    ")\n"
   ]
  },
  {
   "cell_type": "code",
   "execution_count": 16,
   "id": "34d04dfe",
   "metadata": {},
   "outputs": [],
   "source": [
    "project_id = 'composite-store-123456'\n",
    "dataset_id = 'clickup_float_allocations'\n",
    "\n",
    "table_names = [\"dim_project\", \"dim_role\", \"dim_team_member\", \"fact_allocations\", \"fact_time_tracking\"]\n"
   ]
  },
  {
   "cell_type": "code",
   "execution_count": 18,
   "id": "fc138ad1",
   "metadata": {},
   "outputs": [
    {
     "name": "stderr",
     "output_type": "stream",
     "text": [
      "100%|███████████████████████████████████████████| 1/1 [00:00<00:00, 2104.52it/s]\n",
      "100%|███████████████████████████████████████████| 1/1 [00:00<00:00, 2150.93it/s]\n",
      "100%|██████████████████████████████████████████| 1/1 [00:00<00:00, 11397.57it/s]\n",
      "100%|██████████████████████████████████████████| 1/1 [00:00<00:00, 11397.57it/s]\n",
      "100%|███████████████████████████████████████████| 1/1 [00:00<00:00, 7695.97it/s]\n"
     ]
    }
   ],
   "source": [
    "dataframes = [dim_project, dim_role, dim_team_member, fact_allocations, fact_time_tracking]  # Replace with your DataFrames\n",
    "\n",
    "for table_name, df in zip(table_names, dataframes):\n",
    "    df.to_gbq(destination_table=f'{project_id}.{dataset_id}.{table_name}',\n",
    "             project_id=project_id,\n",
    "             if_exists='append',\n",
    "             credentials=credentials)"
   ]
  },
  {
   "cell_type": "code",
   "execution_count": null,
   "id": "c0e86d0b",
   "metadata": {},
   "outputs": [],
   "source": []
  }
 ],
 "metadata": {
  "kernelspec": {
   "display_name": "Python 3 (ipykernel)",
   "language": "python",
   "name": "python3"
  },
  "language_info": {
   "codemirror_mode": {
    "name": "ipython",
    "version": 3
   },
   "file_extension": ".py",
   "mimetype": "text/x-python",
   "name": "python",
   "nbconvert_exporter": "python",
   "pygments_lexer": "ipython3",
   "version": "3.11.4"
  }
 },
 "nbformat": 4,
 "nbformat_minor": 5
}
